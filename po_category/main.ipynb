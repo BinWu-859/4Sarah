{
 "metadata": {
  "language_info": {
   "codemirror_mode": {
    "name": "ipython",
    "version": 3
   },
   "file_extension": ".py",
   "mimetype": "text/x-python",
   "name": "python",
   "nbconvert_exporter": "python",
   "pygments_lexer": "ipython3",
   "version": "3.7.3-final"
  },
  "orig_nbformat": 2,
  "kernelspec": {
   "name": "python37464bitc5def6f2841f480593c75dc54892788e",
   "display_name": "Python 3.7.4 64-bit"
  }
 },
 "nbformat": 4,
 "nbformat_minor": 2,
 "cells": [
  {
   "cell_type": "code",
   "execution_count": 4,
   "metadata": {},
   "outputs": [
    {
     "output_type": "stream",
     "name": "stdout",
     "text": [
      "Overwriting convert.py\n"
     ]
    }
   ],
   "source": [
    "%%file convert.py\n",
    "\n",
    "import sys\n",
    "import csv\n",
    "import os\n",
    "\n",
    "\n",
    "def parse_table(path):\n",
    "    table = []\n",
    "    with open(path, 'r') as csvfile:\n",
    "        spamreader = csv.reader(csvfile, quotechar='\"')\n",
    "        for row in spamreader:\n",
    "            table.append(row)\n",
    "    return table\n",
    "\n",
    "\n",
    "def deal_csv(path):\n",
    "    print(\"input: \" + path)\n",
    "    output_path = os.path.dirname(path)+'/output.csv'\n",
    "    print(\"output: \" + output_path)\n",
    "    table = parse_table(path)\n",
    "    # PO Document+PO Item # Confirmation Category with AB without LA\n",
    "    checktable = {}\n",
    "    cb = table[0].index(\"PO Item\")\n",
    "    pd = table[0].index(\"PO Document\")\n",
    "    cc = table[0].index(\"Confirmation Category\")\n",
    "\n",
    "    for row in table[1:]:\n",
    "        key = row[cb] + '/' + row[pd]\n",
    "        try:\n",
    "            checktable[key]\n",
    "        except KeyError:\n",
    "            if row[cc] == \"LA\":\n",
    "                checktable[key] = 1\n",
    "    with open(output_path, 'w') as csvfile:\n",
    "        writer = csv.writer(csvfile, quotechar='\"')\n",
    "        writer.writerow(table[0])\n",
    "        for row in table[1:]:\n",
    "            key = row[cb] + '/' + row[pd]\n",
    "            try:\n",
    "                checktable[key]\n",
    "            except KeyError:\n",
    "                writer.writerow(row)\n",
    "\n",
    "if len(sys.argv) > 1:\n",
    "    if sys.argv[1].endswith(\".csv\"):\n",
    "        deal_csv(sys.argv[1])\n"
   ]
  },
  {
   "cell_type": "code",
   "execution_count": 5,
   "metadata": {},
   "outputs": [
    {
     "output_type": "stream",
     "name": "stdout",
     "text": [
      "input: ./topstar2020.csv\noutput: ./output.csv\n"
     ]
    }
   ],
   "source": [
    "%run convert ./topstar2020.csv"
   ]
  },
  {
   "cell_type": "code",
   "execution_count": null,
   "metadata": {},
   "outputs": [],
   "source": []
  }
 ]
}